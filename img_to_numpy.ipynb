{
 "cells": [
  {
   "cell_type": "code",
   "execution_count": 12,
   "id": "7d810838-0fbb-4847-bc0a-6d6f977835ef",
   "metadata": {},
   "outputs": [],
   "source": [
    "import PIL\n",
    "import numpy as np\n",
    "from PIL import Image\n",
    "import matplotlib.pyplot as plt\n",
    "\n",
    "im = Image.open('img2.bmp')\n",
    "arr = np.array(im) # im2arr.shape: height x width x channel"
   ]
  },
  {
   "cell_type": "code",
   "execution_count": 13,
   "id": "2427fad1-497b-4998-b027-ed9d088a222e",
   "metadata": {},
   "outputs": [
    {
     "data": {
      "text/plain": [
       "(503, 634)"
      ]
     },
     "execution_count": 13,
     "metadata": {},
     "output_type": "execute_result"
    }
   ],
   "source": [
    "arr.shape"
   ]
  },
  {
   "cell_type": "code",
   "execution_count": 14,
   "id": "18d7fd2a-d317-4c6b-9e1b-88ed1390915e",
   "metadata": {},
   "outputs": [],
   "source": [
    "arr = arr[:,65:569]"
   ]
  },
  {
   "cell_type": "code",
   "execution_count": 15,
   "id": "b127b2f0-5a21-4879-b017-d39d5361d975",
   "metadata": {},
   "outputs": [
    {
     "data": {
      "text/plain": [
       "(503, 504)"
      ]
     },
     "execution_count": 15,
     "metadata": {},
     "output_type": "execute_result"
    }
   ],
   "source": [
    "arr.shape"
   ]
  },
  {
   "cell_type": "code",
   "execution_count": 16,
   "id": "e7d79b6f-2945-4e9a-a6c4-8edfab626eee",
   "metadata": {},
   "outputs": [],
   "source": [
    "# 비율을 알 필요가 없을 경우\n",
    "\n",
    "image = Image.fromarray(np.uint8(arr))\n",
    "image = image.resize((28,28), PIL.Image.ANTIALIAS)"
   ]
  },
  {
   "cell_type": "code",
   "execution_count": 17,
   "id": "af7fa9cd-f6bb-4627-b8a9-8964c84045a7",
   "metadata": {},
   "outputs": [],
   "source": [
    "arr = np.array(image)"
   ]
  },
  {
   "cell_type": "code",
   "execution_count": 19,
   "id": "620f4866-00ee-4ae9-a8c3-db401b8fbbf4",
   "metadata": {},
   "outputs": [],
   "source": [
    "arr = 255 - arr"
   ]
  },
  {
   "cell_type": "code",
   "execution_count": 20,
   "id": "2806f464-bd47-41d4-97c9-42a259135f69",
   "metadata": {},
   "outputs": [
    {
     "data": {
      "image/png": "[encoded data removed]",
      "text/plain": [
       "<Figure size 432x288 with 1 Axes>"
      ]
     },
     "metadata": {
      "needs_background": "light"
     },
     "output_type": "display_data"
    }
   ],
   "source": [
    "plt.imshow(arr, interpolation='none', cmap='Greys')\n",
    "plt.show()"
   ]
  },
  {
   "cell_type": "code",
   "execution_count": 53,
   "id": "fe8475b4-d4aa-49f0-94a7-2340e67680d8",
   "metadata": {},
   "outputs": [],
   "source": [
    "arr = img_to_arr(img,28)"
   ]
  },
  {
   "cell_type": "code",
   "execution_count": 35,
   "id": "74c6233f-90f1-4515-9a05-620a0e2edb7b",
   "metadata": {},
   "outputs": [],
   "source": [
    "image = Image.fromarray(np.uint8(arr))\n",
    "old_width = float(image.size[0])\n",
    "old_height = float(image.size[1])\n",
    "new_height = 28\n",
    "ratio = float( new_height / old_height)\n",
    "new_width = int(old_width * ratio)\n",
    "image = image.resize((new_width, new_height), PIL.Image.ANTIALIAS)"
   ]
  },
  {
   "cell_type": "code",
   "execution_count": 21,
   "id": "7620aea5-e5eb-413f-b42b-b3fe4f60c0f3",
   "metadata": {},
   "outputs": [],
   "source": [
    "image.show()"
   ]
  },
  {
   "cell_type": "code",
   "execution_count": 37,
   "id": "eb723545-36c7-4bf0-b13c-ada220e56fcb",
   "metadata": {},
   "outputs": [],
   "source": [
    "# 이미지를 받아오기\n",
    "import numpy\n",
    "import PIL\n",
    "\n",
    "img = PIL.Image.open(\"img1.jpg\").convert(\"L\")\n",
    "imgarr = numpy.array(img) "
   ]
  },
  {
   "cell_type": "code",
   "execution_count": 39,
   "id": "c4e12305-30b0-4b59-a535-9e0c9bb09fb0",
   "metadata": {},
   "outputs": [
    {
     "data": {
      "text/plain": [
       "(503, 634)"
      ]
     },
     "execution_count": 39,
     "metadata": {},
     "output_type": "execute_result"
    }
   ],
   "source": [
    "imgarr.shape"
   ]
  },
  {
   "cell_type": "code",
   "execution_count": 40,
   "id": "7c523187-dcc1-4f4e-9302-63a5cec9dac8",
   "metadata": {},
   "outputs": [],
   "source": [
    "# 이미지 자르기\n",
    "\n",
    "imgarr = imgarr[:,65:569]"
   ]
  },
  {
   "cell_type": "code",
   "execution_count": 45,
   "id": "1673f73b-25b8-4625-93f4-c97875fe391d",
   "metadata": {},
   "outputs": [
    {
     "data": {
      "image/png": "[encoded data removed]",
      "text/plain": [
       "<Figure size 432x288 with 2 Axes>"
      ]
     },
     "metadata": {
      "needs_background": "light"
     },
     "output_type": "display_data"
    }
   ],
   "source": [
    "import matplotlib.pyplot as plt\n",
    "\n",
    "plt.figure()\n",
    "plt.imshow(imgarr,cmap=plt.cm.binary)\n",
    "plt.colorbar()\n",
    "plt.grid(False)\n",
    "plt.show()"
   ]
  },
  {
   "cell_type": "code",
   "execution_count": 46,
   "id": "8c54ef8e-7410-4298-8047-7ba59b1bbb15",
   "metadata": {},
   "outputs": [],
   "source": [
    "# 사이즈 바꾸기\n",
    "\n",
    "image = Image.fromarray(np.uint8(imgarr))\n",
    "old_width = float(image.size[0])\n",
    "old_height = float(image.size[1])\n",
    "new_height = 28\n",
    "ratio = float( new_height / old_height)\n",
    "new_width = int(old_width * ratio)\n",
    "image = image.resize((new_width, new_height), PIL.Image.ANTIALIAS)"
   ]
  },
  {
   "cell_type": "code",
   "execution_count": 47,
   "id": "950e8a62-a120-4bc7-8dc4-5d7fd90e3d88",
   "metadata": {},
   "outputs": [
    {
     "data": {
      "image/png": "[encoded data removed]",
      "text/plain": [
       "<PIL.Image.Image image mode=L size=28x28 at 0x1CC59F7A3D0>"
      ]
     },
     "execution_count": 47,
     "metadata": {},
     "output_type": "execute_result"
    }
   ],
   "source": [
    "image"
   ]
  },
  {
   "cell_type": "code",
   "execution_count": 50,
   "id": "197c87b7-8fa1-41e0-9c83-8f6aa4b44d83",
   "metadata": {},
   "outputs": [
    {
     "data": {
      "text/plain": [
       "(28, 28)"
      ]
     },
     "execution_count": 50,
     "metadata": {},
     "output_type": "execute_result"
    }
   ],
   "source": [
    "arr.shape"
   ]
  },
  {
   "cell_type": "code",
   "execution_count": 51,
   "id": "5a7af126-5820-4d42-add9-ee08380321b4",
   "metadata": {},
   "outputs": [],
   "source": [
    "def img_to_arr(img, new_height):\n",
    "    old_width = float(img.size[0])\n",
    "    old_height = float(img.size[1])\n",
    "    ratio = float( new_height / old_height)\n",
    "    new_width = int(old_width * ratio)\n",
    "    image = img.resize((new_width, new_height), PIL.Image.ANTIALIAS)\n",
    "    imgarr = np.array(image)\n",
    "    return imgarr"
   ]
  },
  {
   "cell_type": "code",
   "execution_count": 52,
   "id": "6cad3942-5492-4350-ba5c-abb5038c8cc1",
   "metadata": {},
   "outputs": [],
   "source": [
    "img = Image.open('img2.bmp')"
   ]
  },
  {
   "cell_type": "code",
   "execution_count": null,
   "id": "ce627c62-761a-4eaa-84e7-9d9e8b618a6b",
   "metadata": {},
   "outputs": [],
   "source": []
  }
 ],
 "metadata": {
  "kernelspec": {
   "display_name": "Python 3",
   "language": "python",
   "name": "python3"
  },
  "language_info": {
   "codemirror_mode": {
    "name": "ipython",
    "version": 3
   },
   "file_extension": ".py",
   "mimetype": "text/x-python",
   "name": "python",
   "nbconvert_exporter": "python",
   "pygments_lexer": "ipython3",
   "version": "3.8.8"
  }
 },
 "nbformat": 4,
 "nbformat_minor": 5
}
