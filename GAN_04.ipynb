{
 "cells": [
  {
   "cell_type": "code",
   "execution_count": 1,
   "id": "5aefa4ba-b75a-4730-941a-6e4fe6a9f4ac",
   "metadata": {},
   "outputs": [],
   "source": [
    "# 이미지를 받아오기\n",
    "import numpy as np\n",
    "import PIL\n",
    "from PIL import Image\n",
    "\n",
    "img = PIL.Image.open(\"img2.bmp\").convert(\"L\")\n",
    "imgarr = np.array(img) "
   ]
  },
  {
   "cell_type": "code",
   "execution_count": 2,
   "id": "7b606169-732e-4bd2-a55b-5b705eb9211d",
   "metadata": {},
   "outputs": [
    {
     "data": {
      "text/plain": [
       "(503, 634)"
      ]
     },
     "execution_count": 2,
     "metadata": {},
     "output_type": "execute_result"
    }
   ],
   "source": [
    "imgarr.shape"
   ]
  },
  {
   "cell_type": "code",
   "execution_count": 3,
   "id": "2ae9ba13-cfbd-49c3-bf60-8eef7c5b3bbf",
   "metadata": {},
   "outputs": [],
   "source": [
    "imgarr = imgarr[:,65:569]"
   ]
  },
  {
   "cell_type": "code",
   "execution_count": 4,
   "id": "91ec3fcd-401e-44d6-a279-e6121c7a33d8",
   "metadata": {},
   "outputs": [],
   "source": [
    "image = Image.fromarray(np.uint8(imgarr))\n",
    "image = image.resize((28,28), PIL.Image.ANTIALIAS)"
   ]
  },
  {
   "cell_type": "code",
   "execution_count": 5,
   "id": "e37a5e9e-b5b5-4974-96f0-e75de1710dff",
   "metadata": {},
   "outputs": [],
   "source": [
    "arr = np.array(image)"
   ]
  },
  {
   "cell_type": "code",
   "execution_count": 6,
   "id": "efb7b566-5c02-4cbf-81df-531ee962b6d5",
   "metadata": {},
   "outputs": [
    {
     "data": {
      "text/plain": [
       "(28, 28)"
      ]
     },
     "execution_count": 6,
     "metadata": {},
     "output_type": "execute_result"
    }
   ],
   "source": [
    "arr.shape"
   ]
  },
  {
   "cell_type": "code",
   "execution_count": 7,
   "id": "1c922211-1f88-4e1e-ad92-ac265e297be0",
   "metadata": {},
   "outputs": [
    {
     "data": {
      "text/plain": [
       "(784, 1)"
      ]
     },
     "execution_count": 7,
     "metadata": {},
     "output_type": "execute_result"
    }
   ],
   "source": [
    "arr = arr.reshape(784,-1)\n",
    "arr.shape"
   ]
  },
  {
   "cell_type": "code",
   "execution_count": 8,
   "id": "c1c96ed0-f9a8-43cb-a123-e247082e4073",
   "metadata": {},
   "outputs": [
    {
     "name": "stdout",
     "output_type": "stream",
     "text": [
      "[1.0, 1.0, 1.0, 1.0, 1.0, 1.0, 1.0, 1.0, 1.0, 1.0, 1.0, 1.0, 1.0, 1.0, 1.0, 1.0, 1.0, 1.0, 1.0, 1.0, 1.0, 1.0, 1.0, 1.0, 1.0, 1.0, 1.0, 1.0, 1.0, 1.0, 1.0, 1.0, 1.0, 1.0, 1.0, 1.0, 1.0, 1.0, 1.0, 1.0, 1.0, 1.0, 1.0, 1.0, 1.0, 1.0, 1.0, 1.0, 1.0, 1.0, 1.0, 1.0, 1.0, 1.0, 1.0, 1.0, 1.0, 1.0, 1.0, 1.0, 1.0, 1.0, 1.0, 1.0, 1.0, 1.0, 1.0, 1.0, 1.0, 1.0, 1.0, 1.0, 1.0, 1.0, 1.0, 1.0, 1.0, 1.0, 1.0, 1.0, 1.0, 1.0, 1.0, 1.0, 1.0, 1.0, 1.0, 1.0, 1.0, 1.0, 1.0, 1.0, 1.0, 1.0, 1.0, 1.0, 1.0, 1.0, 1.0, 1.0, 1.0, 1.0, 1.0, 1.0, 1.0, 1.0, 1.0, 1.0, 1.0, 1.0, 1.0, 1.0, 1.0, 1.0, 1.0, 1.0, 1.0, 1.0, 1.0, 1.0, 1.0, 1.0, 1.0, 1.0, 1.0, 1.0, 1.0, 1.0, 1.0, 1.0, 1.0, 1.0, 1.0, 1.0, 1.0, 1.0, 1.0, 1.0, 1.0, 1.0, 1.0, 1.0, 1.0, 1.0, 1.0, 1.0, 1.0, 1.0, 1.0, 1.0, 1.0, 1.0, 1.0, 1.0, 1.0, 1.0, 1.0, 1.0, 1.0, 1.0, 1.0, 1.0, 1.0, 1.0, 1.0, 1.0, 1.0, 1.0, 1.0, 1.0, 1.0, 1.0, 1.0, 1.0, 1.0, 1.0, 0.9921568627450981, 0.9882352941176471, 0.996078431372549, 1.0, 1.0, 1.0, 1.0, 1.0, 0.9921568627450981, 0.9882352941176471, 0.9921568627450981, 1.0, 1.0, 1.0, 1.0, 1.0, 1.0, 1.0, 1.0, 1.0, 1.0, 1.0, 1.0, 1.0, 1.0, 1.0, 1.0, 0.9921568627450981, 1.0, 1.0, 1.0, 0.9921568627450981, 1.0, 1.0, 0.9921568627450981, 0.9921568627450981, 1.0, 1.0, 1.0, 0.996078431372549, 0.9921568627450981, 1.0, 1.0, 1.0, 1.0, 1.0, 1.0, 1.0, 1.0, 1.0, 1.0, 1.0, 1.0, 1.0, 1.0, 1.0, 0.8235294117647058, 0.7568627450980392, 0.9647058823529412, 1.0, 0.9921568627450981, 0.9882352941176471, 1.0, 1.0, 0.8823529411764706, 0.792156862745098, 0.8823529411764706, 1.0, 1.0, 0.996078431372549, 1.0, 1.0, 1.0, 1.0, 1.0, 1.0, 1.0, 1.0, 1.0, 1.0, 1.0, 0.9921568627450981, 0.996078431372549, 0.42745098039215684, 0.0, 0.0, 0.14901960784313725, 0.8352941176470589, 1.0, 1.0, 0.8352941176470589, 0.3607843137254902, 0.0, 0.0, 0.0, 0.2784313725490196, 0.8745098039215686, 1.0, 0.9921568627450981, 1.0, 1.0, 1.0, 1.0, 1.0, 1.0, 1.0, 1.0, 1.0, 0.9882352941176471, 1.0, 0.7725490196078432, 0.0, 0.29411764705882354, 0.5490196078431373, 0.0, 0.12941176470588237, 0.9568627450980393, 0.5725490196078431, 0.0, 0.0, 0.2980392156862745, 0.5450980392156862, 0.3607843137254902, 0.0, 0.20392156862745098, 0.9803921568627451, 0.9921568627450981, 0.996078431372549, 1.0, 1.0, 1.0, 1.0, 1.0, 1.0, 1.0, 1.0, 0.984313725490196, 1.0, 0.5450980392156862, 0.00784313725490196, 0.803921568627451, 1.0, 0.5803921568627451, 0.0, 0.1803921568627451, 0.0, 0.16862745098039217, 0.7607843137254902, 1.0, 1.0, 1.0, 0.3686274509803922, 0.0, 0.9058823529411765, 1.0, 0.9921568627450981, 1.0, 1.0, 1.0, 1.0, 1.0, 1.0, 1.0, 1.0, 0.984313725490196, 1.0, 0.4392156862745098, 0.0, 0.8745098039215686, 0.984313725490196, 1.0, 0.23529411764705882, 0.00392156862745098, 0.21176470588235294, 0.9333333333333333, 1.0, 0.9882352941176471, 0.9725490196078431, 1.0, 0.22745098039215686, 0.054901960784313725, 0.9686274509803922, 1.0, 0.996078431372549, 1.0, 1.0, 1.0, 1.0, 1.0, 1.0, 1.0, 1.0, 0.984313725490196, 1.0, 0.5607843137254902, 0.00392156862745098, 0.7450980392156863, 0.996078431372549, 0.984313725490196, 0.9568627450980393, 0.8980392156862745, 0.9529411764705882, 1.0, 0.9882352941176471, 0.984313725490196, 1.0, 0.8470588235294118, 0.0, 0.34509803921568627, 1.0, 0.9882352941176471, 1.0, 1.0, 1.0, 1.0, 1.0, 1.0, 1.0, 1.0, 1.0, 0.9921568627450981, 1.0, 0.8431372549019608, 0.0, 0.36470588235294116, 1.0, 0.984313725490196, 1.0, 1.0, 1.0, 0.9921568627450981, 0.984313725490196, 1.0, 0.9529411764705882, 0.2196078431372549, 0.0, 0.788235294117647, 1.0, 0.9882352941176471, 1.0, 1.0, 1.0, 1.0, 1.0, 1.0, 1.0, 1.0, 1.0, 1.0, 0.9921568627450981, 1.0, 0.23137254901960785, 0.023529411764705882, 0.9176470588235294, 1.0, 0.9803921568627451, 0.9921568627450981, 0.9803921568627451, 0.996078431372549, 1.0, 0.8941176470588236, 0.24313725490196078, 0.0, 0.5176470588235295, 1.0, 0.9882352941176471, 1.0, 1.0, 1.0, 1.0, 1.0, 1.0, 1.0, 1.0, 1.0, 1.0, 1.0, 0.9882352941176471, 1.0, 0.7137254901960784, 0.0, 0.3568627450980392, 0.984313725490196, 1.0, 1.0, 1.0, 1.0, 0.6549019607843137, 0.06666666666666667, 0.0, 0.48627450980392156, 1.0, 0.9882352941176471, 1.0, 1.0, 1.0, 1.0, 1.0, 1.0, 1.0, 1.0, 1.0, 1.0, 1.0, 1.0, 1.0, 0.9921568627450981, 1.0, 0.35294117647058826, 0.0, 0.23529411764705882, 0.8196078431372549, 0.9333333333333333, 0.6039215686274509, 0.1843137254901961, 0.0, 0.08235294117647059, 0.6666666666666666, 1.0, 0.9882352941176471, 1.0, 1.0, 1.0, 1.0, 1.0, 1.0, 1.0, 1.0, 1.0, 1.0, 1.0, 1.0, 1.0, 1.0, 0.996078431372549, 0.9921568627450981, 0.9882352941176471, 0.49411764705882355, 0.0, 0.0, 0.050980392156862744, 0.0, 0.050980392156862744, 0.4745098039215686, 0.9098039215686274, 1.0, 0.9882352941176471, 1.0, 1.0, 1.0, 1.0, 1.0, 1.0, 1.0, 1.0, 1.0, 1.0, 1.0, 1.0, 1.0, 1.0, 1.0, 1.0, 1.0, 0.996078431372549, 1.0, 0.796078431372549, 0.30980392156862746, 0.19215686274509805, 0.6039215686274509, 0.9294117647058824, 1.0, 1.0, 0.9882352941176471, 1.0, 1.0, 1.0, 1.0, 1.0, 1.0, 1.0, 1.0, 1.0, 1.0, 1.0, 1.0, 1.0, 1.0, 1.0, 1.0, 1.0, 1.0, 1.0, 0.9882352941176471, 1.0, 1.0, 1.0, 1.0, 1.0, 0.9882352941176471, 0.996078431372549, 1.0, 1.0, 1.0, 1.0, 1.0, 1.0, 1.0, 1.0, 1.0, 1.0, 1.0, 1.0, 1.0, 1.0, 1.0, 1.0, 1.0, 1.0, 1.0, 1.0, 1.0, 0.9921568627450981, 0.9921568627450981, 0.996078431372549, 0.984313725490196, 0.996078431372549, 1.0, 1.0, 1.0, 1.0, 1.0, 1.0, 1.0, 1.0, 1.0, 1.0, 1.0, 1.0, 1.0, 1.0, 1.0, 1.0, 1.0, 1.0, 1.0, 1.0, 1.0, 1.0, 1.0, 1.0, 1.0, 1.0, 1.0, 1.0, 1.0, 1.0, 1.0, 1.0, 1.0, 1.0, 1.0, 1.0, 1.0, 1.0, 1.0, 1.0, 1.0, 1.0, 1.0, 1.0, 1.0, 1.0, 1.0, 1.0, 1.0, 1.0, 1.0, 1.0, 1.0, 1.0, 1.0, 1.0, 1.0, 1.0, 1.0, 1.0, 1.0, 1.0, 1.0, 1.0, 1.0, 1.0, 1.0, 1.0, 1.0, 1.0, 1.0, 1.0, 1.0, 1.0, 1.0, 1.0, 1.0, 1.0, 1.0, 1.0, 1.0, 1.0, 1.0, 1.0, 1.0, 1.0, 1.0, 1.0, 1.0, 1.0, 1.0, 1.0, 1.0, 1.0, 1.0, 1.0, 1.0, 1.0, 1.0, 1.0, 1.0, 1.0, 1.0, 1.0, 1.0, 1.0, 1.0, 1.0, 1.0, 1.0, 1.0, 1.0, 1.0, 1.0, 1.0, 1.0, 1.0, 1.0, 1.0, 1.0, 1.0, 1.0, 1.0, 1.0, 1.0, 1.0, 1.0, 1.0, 1.0, 1.0, 1.0, 1.0, 1.0, 1.0, 1.0, 1.0, 1.0, 1.0, 1.0, 1.0, 1.0, 1.0, 1.0, 1.0, 1.0, 1.0, 1.0, 1.0, 1.0, 1.0, 1.0, 1.0, 1.0, 1.0, 1.0, 1.0, 1.0, 1.0, 1.0, 1.0, 1.0, 1.0, 1.0, 1.0, 1.0, 1.0, 1.0, 1.0, 1.0, 1.0, 1.0, 1.0, 1.0, 1.0, 1.0, 1.0, 1.0, 1.0, 1.0, 1.0, 1.0]\n"
     ]
    }
   ],
   "source": [
    "data = []\n",
    "for i in (arr/255):\n",
    "    data.append(float(i[0]))\n",
    "    \n",
    "print(data)"
   ]
  },
  {
   "cell_type": "markdown",
   "id": "00881e64-1767-4c61-b56c-df51d04a8822",
   "metadata": {},
   "source": [
    "실제 데이터 소스"
   ]
  },
  {
   "cell_type": "code",
   "execution_count": 9,
   "id": "7c22fa78-9621-4da2-b68a-0fcee8502028",
   "metadata": {},
   "outputs": [],
   "source": [
    "import torch\n",
    "import torch.nn as nn\n",
    "\n",
    "import pandas\n",
    "import matplotlib.pyplot as plt\n",
    "import random"
   ]
  },
  {
   "cell_type": "code",
   "execution_count": 10,
   "id": "ebd7e965-af28-4f53-a31a-d52e46aac58a",
   "metadata": {},
   "outputs": [],
   "source": [
    "def generate_real():\n",
    "    real_data = torch.FloatTensor(data)\n",
    "    return real_data"
   ]
  },
  {
   "cell_type": "code",
   "execution_count": 11,
   "id": "7475e9fe-5a13-4bf1-9165-ba8557497db6",
   "metadata": {},
   "outputs": [
    {
     "data": {
      "text/plain": [
       "tensor([1.0000, 1.0000, 1.0000, 1.0000, 1.0000, 1.0000, 1.0000, 1.0000, 1.0000,\n",
       "        1.0000, 1.0000, 1.0000, 1.0000, 1.0000, 1.0000, 1.0000, 1.0000, 1.0000,\n",
       "        1.0000, 1.0000, 1.0000, 1.0000, 1.0000, 1.0000, 1.0000, 1.0000, 1.0000,\n",
       "        1.0000, 1.0000, 1.0000, 1.0000, 1.0000, 1.0000, 1.0000, 1.0000, 1.0000,\n",
       "        1.0000, 1.0000, 1.0000, 1.0000, 1.0000, 1.0000, 1.0000, 1.0000, 1.0000,\n",
       "        1.0000, 1.0000, 1.0000, 1.0000, 1.0000, 1.0000, 1.0000, 1.0000, 1.0000,\n",
       "        1.0000, 1.0000, 1.0000, 1.0000, 1.0000, 1.0000, 1.0000, 1.0000, 1.0000,\n",
       "        1.0000, 1.0000, 1.0000, 1.0000, 1.0000, 1.0000, 1.0000, 1.0000, 1.0000,\n",
       "        1.0000, 1.0000, 1.0000, 1.0000, 1.0000, 1.0000, 1.0000, 1.0000, 1.0000,\n",
       "        1.0000, 1.0000, 1.0000, 1.0000, 1.0000, 1.0000, 1.0000, 1.0000, 1.0000,\n",
       "        1.0000, 1.0000, 1.0000, 1.0000, 1.0000, 1.0000, 1.0000, 1.0000, 1.0000,\n",
       "        1.0000, 1.0000, 1.0000, 1.0000, 1.0000, 1.0000, 1.0000, 1.0000, 1.0000,\n",
       "        1.0000, 1.0000, 1.0000, 1.0000, 1.0000, 1.0000, 1.0000, 1.0000, 1.0000,\n",
       "        1.0000, 1.0000, 1.0000, 1.0000, 1.0000, 1.0000, 1.0000, 1.0000, 1.0000,\n",
       "        1.0000, 1.0000, 1.0000, 1.0000, 1.0000, 1.0000, 1.0000, 1.0000, 1.0000,\n",
       "        1.0000, 1.0000, 1.0000, 1.0000, 1.0000, 1.0000, 1.0000, 1.0000, 1.0000,\n",
       "        1.0000, 1.0000, 1.0000, 1.0000, 1.0000, 1.0000, 1.0000, 1.0000, 1.0000,\n",
       "        1.0000, 1.0000, 1.0000, 1.0000, 1.0000, 1.0000, 1.0000, 1.0000, 1.0000,\n",
       "        1.0000, 1.0000, 1.0000, 1.0000, 1.0000, 1.0000, 1.0000, 1.0000, 1.0000,\n",
       "        1.0000, 1.0000, 1.0000, 1.0000, 1.0000, 0.9922, 0.9882, 0.9961, 1.0000,\n",
       "        1.0000, 1.0000, 1.0000, 1.0000, 0.9922, 0.9882, 0.9922, 1.0000, 1.0000,\n",
       "        1.0000, 1.0000, 1.0000, 1.0000, 1.0000, 1.0000, 1.0000, 1.0000, 1.0000,\n",
       "        1.0000, 1.0000, 1.0000, 1.0000, 1.0000, 0.9922, 1.0000, 1.0000, 1.0000,\n",
       "        0.9922, 1.0000, 1.0000, 0.9922, 0.9922, 1.0000, 1.0000, 1.0000, 0.9961,\n",
       "        0.9922, 1.0000, 1.0000, 1.0000, 1.0000, 1.0000, 1.0000, 1.0000, 1.0000,\n",
       "        1.0000, 1.0000, 1.0000, 1.0000, 1.0000, 1.0000, 1.0000, 0.8235, 0.7569,\n",
       "        0.9647, 1.0000, 0.9922, 0.9882, 1.0000, 1.0000, 0.8824, 0.7922, 0.8824,\n",
       "        1.0000, 1.0000, 0.9961, 1.0000, 1.0000, 1.0000, 1.0000, 1.0000, 1.0000,\n",
       "        1.0000, 1.0000, 1.0000, 1.0000, 1.0000, 0.9922, 0.9961, 0.4275, 0.0000,\n",
       "        0.0000, 0.1490, 0.8353, 1.0000, 1.0000, 0.8353, 0.3608, 0.0000, 0.0000,\n",
       "        0.0000, 0.2784, 0.8745, 1.0000, 0.9922, 1.0000, 1.0000, 1.0000, 1.0000,\n",
       "        1.0000, 1.0000, 1.0000, 1.0000, 1.0000, 0.9882, 1.0000, 0.7725, 0.0000,\n",
       "        0.2941, 0.5490, 0.0000, 0.1294, 0.9569, 0.5725, 0.0000, 0.0000, 0.2980,\n",
       "        0.5451, 0.3608, 0.0000, 0.2039, 0.9804, 0.9922, 0.9961, 1.0000, 1.0000,\n",
       "        1.0000, 1.0000, 1.0000, 1.0000, 1.0000, 1.0000, 0.9843, 1.0000, 0.5451,\n",
       "        0.0078, 0.8039, 1.0000, 0.5804, 0.0000, 0.1804, 0.0000, 0.1686, 0.7608,\n",
       "        1.0000, 1.0000, 1.0000, 0.3686, 0.0000, 0.9059, 1.0000, 0.9922, 1.0000,\n",
       "        1.0000, 1.0000, 1.0000, 1.0000, 1.0000, 1.0000, 1.0000, 0.9843, 1.0000,\n",
       "        0.4392, 0.0000, 0.8745, 0.9843, 1.0000, 0.2353, 0.0039, 0.2118, 0.9333,\n",
       "        1.0000, 0.9882, 0.9725, 1.0000, 0.2275, 0.0549, 0.9686, 1.0000, 0.9961,\n",
       "        1.0000, 1.0000, 1.0000, 1.0000, 1.0000, 1.0000, 1.0000, 1.0000, 0.9843,\n",
       "        1.0000, 0.5608, 0.0039, 0.7451, 0.9961, 0.9843, 0.9569, 0.8980, 0.9529,\n",
       "        1.0000, 0.9882, 0.9843, 1.0000, 0.8471, 0.0000, 0.3451, 1.0000, 0.9882,\n",
       "        1.0000, 1.0000, 1.0000, 1.0000, 1.0000, 1.0000, 1.0000, 1.0000, 1.0000,\n",
       "        0.9922, 1.0000, 0.8431, 0.0000, 0.3647, 1.0000, 0.9843, 1.0000, 1.0000,\n",
       "        1.0000, 0.9922, 0.9843, 1.0000, 0.9529, 0.2196, 0.0000, 0.7882, 1.0000,\n",
       "        0.9882, 1.0000, 1.0000, 1.0000, 1.0000, 1.0000, 1.0000, 1.0000, 1.0000,\n",
       "        1.0000, 1.0000, 0.9922, 1.0000, 0.2314, 0.0235, 0.9176, 1.0000, 0.9804,\n",
       "        0.9922, 0.9804, 0.9961, 1.0000, 0.8941, 0.2431, 0.0000, 0.5176, 1.0000,\n",
       "        0.9882, 1.0000, 1.0000, 1.0000, 1.0000, 1.0000, 1.0000, 1.0000, 1.0000,\n",
       "        1.0000, 1.0000, 1.0000, 0.9882, 1.0000, 0.7137, 0.0000, 0.3569, 0.9843,\n",
       "        1.0000, 1.0000, 1.0000, 1.0000, 0.6549, 0.0667, 0.0000, 0.4863, 1.0000,\n",
       "        0.9882, 1.0000, 1.0000, 1.0000, 1.0000, 1.0000, 1.0000, 1.0000, 1.0000,\n",
       "        1.0000, 1.0000, 1.0000, 1.0000, 1.0000, 0.9922, 1.0000, 0.3529, 0.0000,\n",
       "        0.2353, 0.8196, 0.9333, 0.6039, 0.1843, 0.0000, 0.0824, 0.6667, 1.0000,\n",
       "        0.9882, 1.0000, 1.0000, 1.0000, 1.0000, 1.0000, 1.0000, 1.0000, 1.0000,\n",
       "        1.0000, 1.0000, 1.0000, 1.0000, 1.0000, 1.0000, 0.9961, 0.9922, 0.9882,\n",
       "        0.4941, 0.0000, 0.0000, 0.0510, 0.0000, 0.0510, 0.4745, 0.9098, 1.0000,\n",
       "        0.9882, 1.0000, 1.0000, 1.0000, 1.0000, 1.0000, 1.0000, 1.0000, 1.0000,\n",
       "        1.0000, 1.0000, 1.0000, 1.0000, 1.0000, 1.0000, 1.0000, 1.0000, 1.0000,\n",
       "        0.9961, 1.0000, 0.7961, 0.3098, 0.1922, 0.6039, 0.9294, 1.0000, 1.0000,\n",
       "        0.9882, 1.0000, 1.0000, 1.0000, 1.0000, 1.0000, 1.0000, 1.0000, 1.0000,\n",
       "        1.0000, 1.0000, 1.0000, 1.0000, 1.0000, 1.0000, 1.0000, 1.0000, 1.0000,\n",
       "        1.0000, 1.0000, 0.9882, 1.0000, 1.0000, 1.0000, 1.0000, 1.0000, 0.9882,\n",
       "        0.9961, 1.0000, 1.0000, 1.0000, 1.0000, 1.0000, 1.0000, 1.0000, 1.0000,\n",
       "        1.0000, 1.0000, 1.0000, 1.0000, 1.0000, 1.0000, 1.0000, 1.0000, 1.0000,\n",
       "        1.0000, 1.0000, 1.0000, 1.0000, 0.9922, 0.9922, 0.9961, 0.9843, 0.9961,\n",
       "        1.0000, 1.0000, 1.0000, 1.0000, 1.0000, 1.0000, 1.0000, 1.0000, 1.0000,\n",
       "        1.0000, 1.0000, 1.0000, 1.0000, 1.0000, 1.0000, 1.0000, 1.0000, 1.0000,\n",
       "        1.0000, 1.0000, 1.0000, 1.0000, 1.0000, 1.0000, 1.0000, 1.0000, 1.0000,\n",
       "        1.0000, 1.0000, 1.0000, 1.0000, 1.0000, 1.0000, 1.0000, 1.0000, 1.0000,\n",
       "        1.0000, 1.0000, 1.0000, 1.0000, 1.0000, 1.0000, 1.0000, 1.0000, 1.0000,\n",
       "        1.0000, 1.0000, 1.0000, 1.0000, 1.0000, 1.0000, 1.0000, 1.0000, 1.0000,\n",
       "        1.0000, 1.0000, 1.0000, 1.0000, 1.0000, 1.0000, 1.0000, 1.0000, 1.0000,\n",
       "        1.0000, 1.0000, 1.0000, 1.0000, 1.0000, 1.0000, 1.0000, 1.0000, 1.0000,\n",
       "        1.0000, 1.0000, 1.0000, 1.0000, 1.0000, 1.0000, 1.0000, 1.0000, 1.0000,\n",
       "        1.0000, 1.0000, 1.0000, 1.0000, 1.0000, 1.0000, 1.0000, 1.0000, 1.0000,\n",
       "        1.0000, 1.0000, 1.0000, 1.0000, 1.0000, 1.0000, 1.0000, 1.0000, 1.0000,\n",
       "        1.0000, 1.0000, 1.0000, 1.0000, 1.0000, 1.0000, 1.0000, 1.0000, 1.0000,\n",
       "        1.0000, 1.0000, 1.0000, 1.0000, 1.0000, 1.0000, 1.0000, 1.0000, 1.0000,\n",
       "        1.0000, 1.0000, 1.0000, 1.0000, 1.0000, 1.0000, 1.0000, 1.0000, 1.0000,\n",
       "        1.0000, 1.0000, 1.0000, 1.0000, 1.0000, 1.0000, 1.0000, 1.0000, 1.0000,\n",
       "        1.0000, 1.0000, 1.0000, 1.0000, 1.0000, 1.0000, 1.0000, 1.0000, 1.0000,\n",
       "        1.0000, 1.0000, 1.0000, 1.0000, 1.0000, 1.0000, 1.0000, 1.0000, 1.0000,\n",
       "        1.0000, 1.0000, 1.0000, 1.0000, 1.0000, 1.0000, 1.0000, 1.0000, 1.0000,\n",
       "        1.0000, 1.0000, 1.0000, 1.0000, 1.0000, 1.0000, 1.0000, 1.0000, 1.0000,\n",
       "        1.0000, 1.0000, 1.0000, 1.0000, 1.0000, 1.0000, 1.0000, 1.0000, 1.0000,\n",
       "        1.0000])"
      ]
     },
     "execution_count": 11,
     "metadata": {},
     "output_type": "execute_result"
    }
   ],
   "source": [
    "generate_real()"
   ]
  },
  {
   "cell_type": "markdown",
   "id": "11e45d5f-c011-4725-a5ed-0575d83b8b32",
   "metadata": {},
   "source": [
    "판별기 만들기"
   ]
  },
  {
   "cell_type": "code",
   "execution_count": 12,
   "id": "787c7a95-9dfa-4cf6-ae06-e3db1c025c39",
   "metadata": {},
   "outputs": [],
   "source": [
    "class Discriminator(nn.Module):\n",
    "    \n",
    "    def __init__(self):\n",
    "        # 파이토치 부모 클래스 초기화\n",
    "        super().__init__()\n",
    "        \n",
    "        # 신경망 레이어 정의\n",
    "        self.model = nn.Sequential(\n",
    "#             nn.Linear(784,3),\n",
    "#             nn.Sigmoid(),\n",
    "#             nn.Linear(13,1),\n",
    "#             nn.Sigmoid()\n",
    "            nn.Linear(784,500),\n",
    "            nn.Sigmoid(),\n",
    "            nn.Linear(500,100),\n",
    "            nn.Sigmoid(),\n",
    "            nn.Linear(100,10),\n",
    "            nn.Sigmoid(),\n",
    "            nn.Linear(10,1),\n",
    "            nn.Sigmoid()\n",
    "        )\n",
    "        \n",
    "        # 손싫함수 설정\n",
    "        self.loss_function = nn.MSELoss()\n",
    "        \n",
    "        # SGD 옵티마이저 설정\n",
    "        self.optimiser = torch.optim.SGD(self.parameters(), lr=0.01)\n",
    "        \n",
    "        # 진행 측정을 위한 변수 초기화\n",
    "        self.counter = 0\n",
    "        self.progress = []\n",
    "        \n",
    "        pass\n",
    "    \n",
    "    def forward(self, inputs):\n",
    "        # 모델 실행\n",
    "        return self.model(inputs)\n",
    "    \n",
    "    def train(self, inputs, targets):\n",
    "        # 신경망 출력 계산\n",
    "        outputs = self.forward(inputs)\n",
    "        \n",
    "        # 손실 계산\n",
    "        loss = self.loss_function(outputs, targets)\n",
    "        \n",
    "        # 카운터를 증가시키고 10회 마다 오차 저장\n",
    "        self.counter += 1\n",
    "        if (self.counter % 10 == 0):\n",
    "            self.progress.append(loss.item())\n",
    "            pass\n",
    "        if (self.counter % 10000 == 0):\n",
    "            print(\"counter = \",self.counter)\n",
    "            pass\n",
    "        \n",
    "        # 기울기를 초기화하고 역전파 후 가중치 갱신\n",
    "        self.optimiser.zero_grad()\n",
    "        loss.backward()\n",
    "        self.optimiser.step()\n",
    "        \n",
    "        pass\n",
    "    \n",
    "    def plot_progress(self):\n",
    "        df = pandas.DataFrame(self.progress, columns=['loss'])\n",
    "        df.plot(ylim=(0,1.0), figsize=(16,8),alpha=0.1, marker='.', grid = True, yticks=(0,0.25,0.5))\n",
    "        pass"
   ]
  },
  {
   "cell_type": "markdown",
   "id": "ac55f24a-f299-424b-9694-aad4b8123076",
   "metadata": {},
   "source": [
    "판별기 테스트하기"
   ]
  },
  {
   "cell_type": "code",
   "execution_count": 13,
   "id": "3c323ab6-437c-40ee-82ec-acfee1e3d422",
   "metadata": {},
   "outputs": [],
   "source": [
    "def generate_random(size):\n",
    "    random_data = torch.rand(size)\n",
    "    return random_data"
   ]
  },
  {
   "cell_type": "code",
   "execution_count": 14,
   "id": "7937fbb2-17bd-4785-868d-50b6455aba47",
   "metadata": {},
   "outputs": [],
   "source": [
    "random_data = torch.randint(low=0,high=255 ,size=(2,))"
   ]
  },
  {
   "cell_type": "code",
   "execution_count": 15,
   "id": "f00b50a5-42d4-4859-8975-4da0adb1627c",
   "metadata": {},
   "outputs": [
    {
     "data": {
      "text/plain": [
       "tensor([0.8892, 0.1862, 0.9181, 0.1611, 0.6887, 0.1699, 0.5522, 0.6565, 0.4175,\n",
       "        0.4566, 0.3337, 0.7745, 0.8944, 0.0030, 0.3380, 0.9673, 0.9644, 0.3065,\n",
       "        0.6842, 0.1764, 0.0790, 0.7606, 0.2643, 0.2256, 0.7261, 0.4097, 0.7773,\n",
       "        0.9045, 0.1598, 0.3981, 0.9075, 0.8508, 0.7002, 0.7540, 0.9951, 0.7279,\n",
       "        0.1154, 0.2752, 0.3172, 0.3157, 0.7081, 0.5723, 0.1748, 0.2602, 0.7457,\n",
       "        0.9680, 0.6397, 0.7506, 0.6595, 0.6988, 0.9067, 0.4601, 0.4666, 0.7213,\n",
       "        0.7428, 0.0092, 0.8248, 0.4103, 0.9867, 0.3878, 0.9302, 0.0584, 0.3384,\n",
       "        0.8869, 0.4973, 0.9294, 0.1856, 0.9489, 0.6522, 0.9517, 0.4326, 0.2543,\n",
       "        0.9313, 0.2307, 0.7569, 0.0452, 0.3617, 0.4152, 0.4834, 0.4263, 0.3952,\n",
       "        0.2349, 0.1767, 0.4508, 0.2131, 0.0973, 0.3744, 0.5110, 0.8287, 0.3341,\n",
       "        0.0551, 0.8591, 0.8792, 0.3190, 0.3131, 0.8007, 0.8576, 0.4109, 0.0777,\n",
       "        0.5647, 0.3955, 0.1178, 0.9690, 0.5895, 0.9647, 0.9448, 0.7653, 0.0032,\n",
       "        0.7355, 0.6098, 0.7330, 0.9559, 0.7372, 0.6648, 0.2125, 0.7941, 0.5316,\n",
       "        0.5091, 0.4022, 0.6285, 0.7803, 0.1113, 0.2121, 0.6313, 0.3596, 0.8045,\n",
       "        0.5609, 0.7543, 0.3655, 0.5212, 0.1520, 0.9185, 0.3875, 0.7938, 0.4472,\n",
       "        0.6931, 0.1597, 0.6614, 0.9154, 0.5045, 0.1779, 0.6311, 0.2525, 0.6337,\n",
       "        0.8590, 0.5299, 0.1051, 0.3018, 0.0204, 0.1494, 0.9912, 0.4541, 0.3909,\n",
       "        0.2027, 0.3049, 0.8713, 0.1309, 0.2105, 0.6683, 0.2874, 0.1497, 0.2978,\n",
       "        0.9427, 0.5729, 0.9743, 0.2518, 0.6558, 0.4535, 0.7100, 0.4554, 0.3278,\n",
       "        0.2612, 0.6411, 0.0983, 0.2793, 0.8351, 0.0842, 0.9751, 0.5525, 0.9662,\n",
       "        0.6662, 0.3076, 0.8501, 0.5954, 0.2090, 0.4562, 0.6318, 0.5220, 0.3163,\n",
       "        0.5614, 0.7771, 0.3702, 0.3552, 0.0929, 0.4794, 0.8342, 0.5799, 0.7272,\n",
       "        0.1584, 0.0819, 0.7771, 0.9206, 0.0930, 0.5341, 0.0471, 0.8942, 0.5756,\n",
       "        0.5715, 0.8455, 0.0088, 0.9297, 0.3739, 0.9745, 0.3742, 0.7070, 0.3224,\n",
       "        0.7199, 0.6443, 0.9502, 0.6855, 0.2430, 0.1726, 0.3419, 0.8924, 0.3288,\n",
       "        0.6781, 0.4161, 0.6321, 0.2866, 0.5944, 0.4149, 0.3368, 0.5669, 0.5890,\n",
       "        0.7435, 0.6266, 0.1031, 0.8197, 0.9167, 0.1729, 0.3407, 0.4211, 0.4369,\n",
       "        0.3911, 0.9977, 0.8058, 0.6735, 0.5050, 0.1468, 0.2278, 0.8791, 0.5482,\n",
       "        0.8754, 0.1251, 0.0640, 0.4213, 0.0153, 0.7419, 0.8203, 0.0468, 0.7418,\n",
       "        0.5799, 0.5985, 0.8285, 0.0706, 0.2881, 0.3930, 0.8294, 0.5154, 0.7971,\n",
       "        0.2820, 0.8802, 0.4353, 0.9024, 0.2560, 0.4033, 0.6349, 0.8767, 0.4468,\n",
       "        0.1180, 0.7943, 0.2408, 0.0870, 0.6123, 0.7436, 0.7541, 0.1862, 0.6459,\n",
       "        0.7057, 0.3045, 0.7242, 0.7765, 0.2150, 0.2790, 0.6894, 0.9000, 0.8500,\n",
       "        0.1792, 0.7025, 0.8040, 0.6323, 0.7075, 0.1624, 0.5813, 0.1810, 0.1960,\n",
       "        0.3572, 0.0603, 0.0986, 0.5999, 0.4384, 0.2787, 0.6286, 0.9154, 0.8388,\n",
       "        0.3346, 0.3513, 0.0217, 0.5950, 0.3882, 0.7829, 0.0375, 0.2439, 0.3928,\n",
       "        0.5958, 0.4249, 0.9985, 0.5955, 0.8160, 0.8730, 0.6299, 0.5280, 0.3859,\n",
       "        0.2774, 0.7509, 0.8488, 0.3495, 0.3375, 0.4705, 0.3805, 0.1680, 0.4696,\n",
       "        0.7544, 0.5567, 0.6762, 0.1226, 0.0692, 0.6966, 0.4540, 0.5820, 0.8037,\n",
       "        0.9391, 0.0805, 0.2820, 0.2433, 0.5551, 0.6300, 0.1814, 0.2759, 0.7574,\n",
       "        0.5644, 0.5337, 0.9052, 0.3820, 0.5807, 0.7005, 0.1944, 0.9909, 0.3546,\n",
       "        0.4887, 0.0231, 0.5222, 0.5246, 0.5082, 0.1905, 0.3862, 0.4973, 0.9062,\n",
       "        0.2084, 0.8179, 0.6351, 0.5198, 0.9830, 0.8834, 0.4522, 0.4786, 0.7402,\n",
       "        0.1609, 0.7767, 0.9008, 0.8075, 0.5940, 0.8601, 0.1123, 0.7394, 0.1158,\n",
       "        0.7079, 0.8765, 0.1781, 0.8026, 0.7070, 0.4277, 0.8893, 0.1658, 0.5631,\n",
       "        0.8353, 0.2520, 0.5081, 0.7054, 0.4015, 0.2318, 0.4941, 0.8307, 0.9485,\n",
       "        0.6352, 0.0179, 0.5367, 0.6004, 0.4623, 0.7681, 0.3301, 0.4210, 0.5816,\n",
       "        0.0528, 0.2036, 0.7055, 0.5625, 0.2860, 0.9307, 0.9335, 0.0048, 0.2542,\n",
       "        0.3851, 0.9513, 0.6787, 0.2867, 0.2693, 0.3914, 0.4670, 0.3282, 0.6666,\n",
       "        0.1585, 0.1268, 0.8605, 0.2203, 0.3544, 0.8373, 0.8634, 0.8220, 0.7469,\n",
       "        0.0258, 0.5226, 0.7048, 0.6531, 0.9852, 0.6580, 0.0883, 0.4862, 0.4658,\n",
       "        0.3496, 0.0668, 0.4744, 0.1514, 0.8250, 0.3387, 0.8259, 0.8384, 0.1944,\n",
       "        0.0113, 0.8319, 0.4329, 0.9154, 0.4487, 0.3585, 0.9632, 0.3221, 0.4407,\n",
       "        0.4224, 0.6807, 0.4810, 0.4165, 0.3242, 0.7256, 0.4417, 0.7011, 0.9560,\n",
       "        0.8849, 0.5509, 0.4284, 0.3302, 0.0029, 0.1008, 0.7924, 0.0899, 0.4703,\n",
       "        0.1795, 0.8209, 0.0462, 0.3062, 0.8482, 0.0750, 0.1590, 0.1226, 0.2281,\n",
       "        0.6811, 0.4530, 0.4324, 0.5489, 0.7362, 0.9505, 0.7407, 0.0836, 0.0855,\n",
       "        0.7112, 0.1659, 0.3608, 0.3724, 0.2889, 0.0612, 0.5778, 0.5639, 0.3930,\n",
       "        0.3939, 0.9499, 0.5467, 0.3285, 0.1745, 0.5791, 0.4691, 0.1466, 0.8361,\n",
       "        0.6074, 0.2426, 0.7695, 0.4354, 0.5117, 0.0953, 0.2736, 0.9017, 0.7447,\n",
       "        0.0328, 0.8003, 0.2736, 0.6776, 0.6150, 0.8927, 0.9183, 0.8532, 0.9937,\n",
       "        0.3071, 0.7242, 0.1944, 0.5687, 0.6214, 0.5672, 0.3085, 0.6801, 0.3068,\n",
       "        0.5964, 0.0178, 0.1812, 0.7265, 0.2019, 0.6625, 0.1878, 0.4140, 0.1260,\n",
       "        0.6994, 0.0919, 0.3999, 0.1199, 0.0529, 0.3854, 0.7797, 0.0309, 0.4623,\n",
       "        0.4696, 0.2348, 0.9787, 0.9642, 0.1722, 0.9407, 0.0106, 0.5071, 0.7719,\n",
       "        0.3193, 0.9866, 0.5266, 0.5730, 0.2842, 0.8390, 0.5948, 0.4296, 0.9821,\n",
       "        0.5943, 0.5062, 0.9698, 0.1930, 0.8186, 0.1603, 0.4469, 0.9779, 0.0445,\n",
       "        0.5025, 0.8726, 0.3131, 0.8921, 0.0435, 0.7339, 0.3614, 0.3375, 0.4233,\n",
       "        0.8830, 0.8414, 0.8220, 0.1049, 0.7641, 0.4767, 0.1495, 0.6068, 0.9382,\n",
       "        0.2256, 0.8398, 0.5812, 0.7444, 0.1300, 0.8208, 0.6229, 0.5344, 0.0540,\n",
       "        0.7918, 0.7438, 0.5358, 0.1750, 0.1510, 0.6460, 0.2451, 0.0687, 0.7759,\n",
       "        0.3302, 0.6057, 0.4129, 0.1161, 0.4582, 0.9485, 0.9007, 0.4923, 0.4137,\n",
       "        0.2302, 0.2037, 0.1922, 0.8105, 0.4640, 0.2070, 0.7242, 0.9175, 0.7256,\n",
       "        0.9662, 0.4049, 0.5485, 0.6766, 0.1926, 0.1155, 0.8171, 0.8768, 0.4168,\n",
       "        0.6562, 0.8144, 0.4052, 0.0231, 0.1409, 0.4732, 0.7049, 0.5299, 0.6389,\n",
       "        0.2032, 0.7020, 0.7547, 0.9178, 0.1385, 0.7700, 0.4165, 0.5017, 0.0140,\n",
       "        0.5984, 0.4880, 0.4910, 0.4049, 0.9066, 0.0235, 0.7227, 0.5748, 0.5489,\n",
       "        0.2596, 0.8309, 0.7802, 0.5487, 0.2523, 0.3905, 0.9130, 0.4268, 0.3006,\n",
       "        0.5656, 0.0711, 0.0199, 0.7799, 0.2950, 0.5423, 0.8671, 0.8860, 0.7853,\n",
       "        0.3307, 0.9787, 0.3031, 0.4283, 0.0703, 0.2126, 0.8689, 0.5883, 0.9074,\n",
       "        0.7895, 0.4285, 0.1891, 0.7723, 0.3611, 0.7783, 0.4788, 0.5160, 0.2752,\n",
       "        0.5543, 0.1143, 0.6022, 0.4780, 0.0817, 0.8756, 0.8771, 0.8381, 0.9746,\n",
       "        0.9562, 0.1179, 0.0084, 0.1243, 0.0533, 0.1618, 0.1144, 0.4689, 0.1894,\n",
       "        0.7393, 0.3179, 0.9671, 0.0694, 0.9004, 0.5051, 0.6219, 0.7606, 0.5369,\n",
       "        0.3737, 0.9672, 0.1834, 0.5261, 0.0321, 0.9510, 0.4238, 0.1613, 0.4003,\n",
       "        0.6077, 0.2433, 0.5769, 0.3828, 0.9493, 0.5004, 0.0376, 0.5020, 0.5396,\n",
       "        0.1903, 0.8873, 0.2568, 0.2630, 0.2290, 0.6550, 0.8010, 0.7353, 0.6858,\n",
       "        0.1570])"
      ]
     },
     "execution_count": 15,
     "metadata": {},
     "output_type": "execute_result"
    }
   ],
   "source": [
    "generate_random(784)"
   ]
  },
  {
   "cell_type": "code",
   "execution_count": 16,
   "id": "eb1b7d35-de94-4982-b364-839d7bfc9c48",
   "metadata": {},
   "outputs": [
    {
     "name": "stdout",
     "output_type": "stream",
     "text": [
      "counter =  10000\n",
      "counter =  20000\n",
      "Wall time: 46.7 s\n"
     ]
    }
   ],
   "source": [
    "%%time\n",
    "\n",
    "D = Discriminator()\n",
    "\n",
    "for i in range(10000):\n",
    "    # 실제데이터\n",
    "    D.train(generate_real(), torch.FloatTensor([1.0]))\n",
    "    #생성된 데이터\n",
    "    D.train(generate_random(784), torch.FloatTensor([0.0]))\n",
    "    pass"
   ]
  },
  {
   "cell_type": "code",
   "execution_count": 17,
   "id": "b6df5a58-b30a-4144-9533-b4023c18b41e",
   "metadata": {},
   "outputs": [
    {
     "name": "stderr",
     "output_type": "stream",
     "text": [
      "findfont: Font family ['NanumGothic'] not found. Falling back to DejaVu Sans.\n"
     ]
    },
    {
     "data": {
      "image/png": "[encoded data removed]",
      "text/plain": [
       "<Figure size 1152x576 with 1 Axes>"
      ]
     },
     "metadata": {
      "needs_background": "light"
     },
     "output_type": "display_data"
    }
   ],
   "source": [
    "D.plot_progress()"
   ]
  },
  {
   "cell_type": "code",
   "execution_count": 18,
   "id": "39b25955-9886-4997-b6a3-c2055acbfdc1",
   "metadata": {},
   "outputs": [
    {
     "name": "stdout",
     "output_type": "stream",
     "text": [
      "0.9343591332435608\n",
      "0.06907791644334793\n"
     ]
    }
   ],
   "source": [
    "# manually run discriminator to check it can tell real data from fake\n",
    "\n",
    "print(D.forward( generate_real() ).item() )\n",
    "print(D.forward( generate_random(784) ).item())"
   ]
  },
  {
   "cell_type": "markdown",
   "id": "e6717037-b56c-439e-846a-52390c4aeb39",
   "metadata": {},
   "source": [
    "생성기 만들기"
   ]
  },
  {
   "cell_type": "code",
   "execution_count": 19,
   "id": "4aff467a-5d87-40a3-8830-b0e8a6f897d2",
   "metadata": {},
   "outputs": [],
   "source": [
    "class Generator(nn.Module):\n",
    "    \n",
    "    def __init__(self):\n",
    "        # 파이토치 부모 클래스 초기화\n",
    "        super().__init__()\n",
    "        \n",
    "        # 신경망 레이어 정의\n",
    "        self.model = nn.Sequential(\n",
    "            nn.Linear(1,10),\n",
    "            nn.Sigmoid(),\n",
    "            nn.Linear(10,100),\n",
    "            nn.Sigmoid(),\n",
    "            nn.Linear(100,500),\n",
    "            nn.Sigmoid(),\n",
    "            nn.Linear(500,784),\n",
    "            nn.Sigmoid()\n",
    "        )\n",
    "        \n",
    "        # 손실함수 설정할 필요가 없음\n",
    "        # self.loss_function = nn.MSELoss()\n",
    "        \n",
    "        # SGD 옵티마이저 설정\n",
    "        self.optimiser = torch.optim.SGD(self.parameters(), lr=0.01)\n",
    "        \n",
    "        # 진행 측정을 위한 변수 초기화\n",
    "        self.counter = 0\n",
    "        self.progress = []\n",
    "        \n",
    "        pass\n",
    "    \n",
    "    def forward(self, inputs):\n",
    "        # 모델 실행\n",
    "        return self.model(inputs)\n",
    "    \n",
    "    def train(self, D, inputs, targets):\n",
    "        # 신경망 출력 계산\n",
    "        g_output = self.forward(inputs)\n",
    "        \n",
    "        # 판별기로 전달\n",
    "        d_output = D.forward(g_output)\n",
    "        \n",
    "        # 오차 계산\n",
    "        loss = D.loss_function(d_output, targets)\n",
    "        \n",
    "        # 카운터를 증가시키고 10회 마다 오차 저장\n",
    "        self.counter += 1\n",
    "        if (self.counter % 10 == 0):\n",
    "            self.progress.append(loss.item())\n",
    "            pass\n",
    "        \n",
    "        # 기울기를 초기화하고 역전파 후 가중치 갱신\n",
    "        self.optimiser.zero_grad()\n",
    "        loss.backward()\n",
    "        self.optimiser.step()\n",
    "        \n",
    "        pass\n",
    "    \n",
    "    def plot_progress(self):\n",
    "        df = pandas.DataFrame(self.progress, columns=['loss'])\n",
    "        df.plot(ylim=(0,1.0), figsize=(16,8),alpha=0.1, marker='.', grid = True, yticks=(0,0.25,0.5))\n",
    "        pass"
   ]
  },
  {
   "cell_type": "markdown",
   "id": "7d0c5065-56e7-4e99-869e-36d4f9bc5742",
   "metadata": {},
   "source": [
    "생성기 결과 확인하기"
   ]
  },
  {
   "cell_type": "code",
   "execution_count": 20,
   "id": "35c41ce3-1822-463a-9431-dcaeb83b4eec",
   "metadata": {},
   "outputs": [
    {
     "data": {
      "text/plain": [
       "tensor([0.5016, 0.4237, 0.5362, 0.4789, 0.4933, 0.6338, 0.4726, 0.4688, 0.4404,\n",
       "        0.5374, 0.4877, 0.5852, 0.5248, 0.4625, 0.5002, 0.5449, 0.6058, 0.5128,\n",
       "        0.4641, 0.5920, 0.5455, 0.5284, 0.5495, 0.3802, 0.5096, 0.4309, 0.4722,\n",
       "        0.3998, 0.5578, 0.5238, 0.4946, 0.4453, 0.3905, 0.6451, 0.5009, 0.3575,\n",
       "        0.6605, 0.5283, 0.5693, 0.6039, 0.5400, 0.4403, 0.5451, 0.5567, 0.3956,\n",
       "        0.6716, 0.5278, 0.5376, 0.5977, 0.4696, 0.4714, 0.5233, 0.5501, 0.5557,\n",
       "        0.5739, 0.4837, 0.4950, 0.6450, 0.3278, 0.4358, 0.5087, 0.4485, 0.4849,\n",
       "        0.4307, 0.4735, 0.5098, 0.5014, 0.4567, 0.5380, 0.3841, 0.4256, 0.4852,\n",
       "        0.3976, 0.4337, 0.4228, 0.5222, 0.4100, 0.5530, 0.5759, 0.5123, 0.4954,\n",
       "        0.4790, 0.3973, 0.4669, 0.4373, 0.4063, 0.5744, 0.4446, 0.4828, 0.4692,\n",
       "        0.4949, 0.5027, 0.5452, 0.5803, 0.4721, 0.4258, 0.5546, 0.5409, 0.4088,\n",
       "        0.4620, 0.5935, 0.5377, 0.5024, 0.5255, 0.4983, 0.4652, 0.6696, 0.5653,\n",
       "        0.6472, 0.5763, 0.6082, 0.3760, 0.5186, 0.4023, 0.4718, 0.4170, 0.4623,\n",
       "        0.5491, 0.4936, 0.6369, 0.3342, 0.4975, 0.4744, 0.4552, 0.5707, 0.3998,\n",
       "        0.3798, 0.5540, 0.5134, 0.5063, 0.4603, 0.5552, 0.6560, 0.3973, 0.5412,\n",
       "        0.5624, 0.5320, 0.6481, 0.4825, 0.5814, 0.3419, 0.4447, 0.5025, 0.5408,\n",
       "        0.4049, 0.5105, 0.5097, 0.5803, 0.5230, 0.5028, 0.5159, 0.6225, 0.4963,\n",
       "        0.5017, 0.4684, 0.5791, 0.5113, 0.5719, 0.6199, 0.4313, 0.4467, 0.5278,\n",
       "        0.6046, 0.3658, 0.4592, 0.5073, 0.4990, 0.4801, 0.5263, 0.5715, 0.4903,\n",
       "        0.4981, 0.4686, 0.4706, 0.5368, 0.4508, 0.4133, 0.5384, 0.5450, 0.4796,\n",
       "        0.5301, 0.4899, 0.3797, 0.4004, 0.4570, 0.4349, 0.5437, 0.5313, 0.3861,\n",
       "        0.4025, 0.5800, 0.5477, 0.5947, 0.3570, 0.5896, 0.4716, 0.5747, 0.5859,\n",
       "        0.5810, 0.4554, 0.6632, 0.5286, 0.5551, 0.4525, 0.4661, 0.5422, 0.5605,\n",
       "        0.4342, 0.5019, 0.5145, 0.5713, 0.5190, 0.5887, 0.4624, 0.3365, 0.4653,\n",
       "        0.3821, 0.5606, 0.6244, 0.6610, 0.5465, 0.5571, 0.4576, 0.5318, 0.6472,\n",
       "        0.4720, 0.3721, 0.5448, 0.5600, 0.3669, 0.4733, 0.4614, 0.3930, 0.6591,\n",
       "        0.5192, 0.4572, 0.5819, 0.3002, 0.5307, 0.6070, 0.5573, 0.3918, 0.4065,\n",
       "        0.4342, 0.5263, 0.4508, 0.4838, 0.6266, 0.5064, 0.4848, 0.5054, 0.5397,\n",
       "        0.5973, 0.4573, 0.5067, 0.4464, 0.5609, 0.4906, 0.5050, 0.5264, 0.5864,\n",
       "        0.4717, 0.5166, 0.4180, 0.4915, 0.5290, 0.4893, 0.4399, 0.5964, 0.4857,\n",
       "        0.5364, 0.5154, 0.3483, 0.5554, 0.5985, 0.5505, 0.5526, 0.4562, 0.4911,\n",
       "        0.5074, 0.4123, 0.4526, 0.4631, 0.5603, 0.5729, 0.5052, 0.4780, 0.4511,\n",
       "        0.4178, 0.6261, 0.4183, 0.4531, 0.5726, 0.5236, 0.5368, 0.4354, 0.3595,\n",
       "        0.4541, 0.5306, 0.5572, 0.5745, 0.5480, 0.4897, 0.4994, 0.6262, 0.4382,\n",
       "        0.5035, 0.6028, 0.4417, 0.5190, 0.4869, 0.5443, 0.4926, 0.5908, 0.4762,\n",
       "        0.5330, 0.5096, 0.4617, 0.4324, 0.4203, 0.4391, 0.3422, 0.4343, 0.5038,\n",
       "        0.4942, 0.4290, 0.4485, 0.5122, 0.5725, 0.5783, 0.4221, 0.4757, 0.5174,\n",
       "        0.5158, 0.5257, 0.4439, 0.5911, 0.4997, 0.5021, 0.3833, 0.5223, 0.5626,\n",
       "        0.4629, 0.5070, 0.4919, 0.3812, 0.6320, 0.6113, 0.4754, 0.5245, 0.5534,\n",
       "        0.4235, 0.3994, 0.3532, 0.4907, 0.3971, 0.5730, 0.5103, 0.4077, 0.5185,\n",
       "        0.4684, 0.4307, 0.4333, 0.5283, 0.5023, 0.3984, 0.4185, 0.3624, 0.4299,\n",
       "        0.3625, 0.4777, 0.6338, 0.5074, 0.6649, 0.5035, 0.4084, 0.5328, 0.5165,\n",
       "        0.5528, 0.4825, 0.5309, 0.4690, 0.5174, 0.4619, 0.4701, 0.6611, 0.3370,\n",
       "        0.5108, 0.5185, 0.5299, 0.5088, 0.5969, 0.5209, 0.5990, 0.5375, 0.5156,\n",
       "        0.4820, 0.4907, 0.6325, 0.5120, 0.5021, 0.5596, 0.5000, 0.6261, 0.3670,\n",
       "        0.4398, 0.4753, 0.3428, 0.4801, 0.5166, 0.4839, 0.4755, 0.5207, 0.4694,\n",
       "        0.4070, 0.5367, 0.4320, 0.5138, 0.4761, 0.5512, 0.3555, 0.5135, 0.4876,\n",
       "        0.4702, 0.4805, 0.5461, 0.4944, 0.4887, 0.6586, 0.5281, 0.6322, 0.3989,\n",
       "        0.4238, 0.5886, 0.5138, 0.4698, 0.5529, 0.4381, 0.5087, 0.4221, 0.5453,\n",
       "        0.5281, 0.4301, 0.4815, 0.4824, 0.4541, 0.4833, 0.4372, 0.5748, 0.6082,\n",
       "        0.5340, 0.3769, 0.4814, 0.5097, 0.4717, 0.5175, 0.6582, 0.3779, 0.4557,\n",
       "        0.4736, 0.4707, 0.3591, 0.5459, 0.4813, 0.4266, 0.5457, 0.3736, 0.3894,\n",
       "        0.5582, 0.5946, 0.5239, 0.4001, 0.4841, 0.2659, 0.4742, 0.4964, 0.5803,\n",
       "        0.4994, 0.4899, 0.4729, 0.3695, 0.4512, 0.4678, 0.5263, 0.4444, 0.4098,\n",
       "        0.4369, 0.5949, 0.4232, 0.6029, 0.4660, 0.5082, 0.5170, 0.4920, 0.4290,\n",
       "        0.5077, 0.4330, 0.5501, 0.4101, 0.6098, 0.5754, 0.5989, 0.5462, 0.4978,\n",
       "        0.4980, 0.4820, 0.5416, 0.4878, 0.4503, 0.5007, 0.5868, 0.5438, 0.5551,\n",
       "        0.5046, 0.6054, 0.5108, 0.5210, 0.4213, 0.5340, 0.4368, 0.5353, 0.4098,\n",
       "        0.4483, 0.5357, 0.5291, 0.3856, 0.4881, 0.3622, 0.4589, 0.5495, 0.5464,\n",
       "        0.5073, 0.5195, 0.5088, 0.5611, 0.4564, 0.4856, 0.5030, 0.3560, 0.4777,\n",
       "        0.4943, 0.4267, 0.6580, 0.4911, 0.6318, 0.3434, 0.5691, 0.5478, 0.5412,\n",
       "        0.5518, 0.5992, 0.4448, 0.4943, 0.3729, 0.5341, 0.3117, 0.4081, 0.4479,\n",
       "        0.5180, 0.4587, 0.4853, 0.5241, 0.5430, 0.6017, 0.5842, 0.5700, 0.5070,\n",
       "        0.4128, 0.5744, 0.5202, 0.4244, 0.4513, 0.4794, 0.5474, 0.4003, 0.4391,\n",
       "        0.5191, 0.5075, 0.4636, 0.6705, 0.4041, 0.5749, 0.5179, 0.4897, 0.5627,\n",
       "        0.4322, 0.3481, 0.4218, 0.4529, 0.5156, 0.4562, 0.7117, 0.5677, 0.5007,\n",
       "        0.3710, 0.4362, 0.5993, 0.3571, 0.5330, 0.4427, 0.5333, 0.5800, 0.4992,\n",
       "        0.5131, 0.5097, 0.6512, 0.5610, 0.4925, 0.4465, 0.5731, 0.3842, 0.5142,\n",
       "        0.5080, 0.6406, 0.4591, 0.6470, 0.5410, 0.6085, 0.4776, 0.6382, 0.6043,\n",
       "        0.5493, 0.4895, 0.5372, 0.4843, 0.5660, 0.3337, 0.4175, 0.4541, 0.4436,\n",
       "        0.5747, 0.5030, 0.5523, 0.4971, 0.3770, 0.5286, 0.5312, 0.5788, 0.5830,\n",
       "        0.4005, 0.5669, 0.4505, 0.4741, 0.4188, 0.4476, 0.5538, 0.4096, 0.5024,\n",
       "        0.4543, 0.6135, 0.5277, 0.5111, 0.5123, 0.5479, 0.3647, 0.4506, 0.3544,\n",
       "        0.4156, 0.4606, 0.4684, 0.5121, 0.6436, 0.5634, 0.4151, 0.4223, 0.4644,\n",
       "        0.5650, 0.6182, 0.3387, 0.3323, 0.4389, 0.4671, 0.5451, 0.5468, 0.4939,\n",
       "        0.4474, 0.5331, 0.6086, 0.4061, 0.4623, 0.6475, 0.5768, 0.5856, 0.5316,\n",
       "        0.4824, 0.5007, 0.4543, 0.4360, 0.4303, 0.4976, 0.4128, 0.4782, 0.5165,\n",
       "        0.5039, 0.5729, 0.5457, 0.5412, 0.5124, 0.5302, 0.4565, 0.5247, 0.5005,\n",
       "        0.4107, 0.4416, 0.4351, 0.3763, 0.4557, 0.4834, 0.6076, 0.4640, 0.5673,\n",
       "        0.5599, 0.5829, 0.4674, 0.5558, 0.4787, 0.5832, 0.5173, 0.3865, 0.5627,\n",
       "        0.5686, 0.4311, 0.4991, 0.6637, 0.5958, 0.4991, 0.4469, 0.5924, 0.5033,\n",
       "        0.5156, 0.4407, 0.5655, 0.4249, 0.4840, 0.5072, 0.3818, 0.6076, 0.4064,\n",
       "        0.3788, 0.5245, 0.4022, 0.4700, 0.5739, 0.5604, 0.4793, 0.3431, 0.5884,\n",
       "        0.4292, 0.3133, 0.5647, 0.5396, 0.4822, 0.6110, 0.3889, 0.4978, 0.4101,\n",
       "        0.4885, 0.6353, 0.6397, 0.4330, 0.4800, 0.5007, 0.4486, 0.5379, 0.5424,\n",
       "        0.5369, 0.6579, 0.6267, 0.4873, 0.4615, 0.4428, 0.3893, 0.5154, 0.4244,\n",
       "        0.4553, 0.5348, 0.4459, 0.5595, 0.4427, 0.4526, 0.4445, 0.4982, 0.3773,\n",
       "        0.6902], grad_fn=<SigmoidBackward>)"
      ]
     },
     "execution_count": 20,
     "metadata": {},
     "output_type": "execute_result"
    }
   ],
   "source": [
    "G = Generator()\n",
    "G.forward(torch.FloatTensor([0.5]))"
   ]
  },
  {
   "cell_type": "markdown",
   "id": "573050d2-8ff8-4df7-a4ab-4563adbf1150",
   "metadata": {},
   "source": [
    "GAN 훈련하기"
   ]
  },
  {
   "cell_type": "code",
   "execution_count": 21,
   "id": "c04ef453-477f-4c9a-bd02-65d8ef95dc51",
   "metadata": {},
   "outputs": [
    {
     "name": "stdout",
     "output_type": "stream",
     "text": [
      "counter =  10000\n",
      "counter =  20000\n",
      "Wall time: 1min 39s\n"
     ]
    }
   ],
   "source": [
    "%%time\n",
    "\n",
    "# 판별기 및 생성기 생성\n",
    "D = Discriminator()\n",
    "G = Generator()\n",
    "image_list = []\n",
    "    \n",
    "# 판별기와 생성기 훈련\n",
    "for i in range(10000):\n",
    "    \n",
    "    # 1단계 : 참에 대해 판별기 훈련\n",
    "    D.train(generate_real(), torch.FloatTensor([1.0]))\n",
    "    \n",
    "    # 2단계 : 거짓에 대해 판별기 훈련\n",
    "    # G의 기울기가 계산되지 않도록 detach() 함수를 이용\n",
    "    D.train(G.forward(torch.FloatTensor([0.5])).detach(), torch.FloatTensor([0.0]))\n",
    "    \n",
    "    # 3단계 : 생성기 훈련\n",
    "    G.train(D, torch.FloatTensor([0.5]), torch.FloatTensor([1.0]))\n",
    "    \n",
    "    # 매 1000회 이미지를 저장\n",
    "    if (i%1000 == 0):\n",
    "        image_list.append(G.forward(torch.FloatTensor([0.5])).detach().numpy())"
   ]
  },
  {
   "cell_type": "code",
   "execution_count": 22,
   "id": "a23dc0c0-47fc-43fc-9637-c94a96af8578",
   "metadata": {},
   "outputs": [
    {
     "data": {
      "image/png": "[encoded data removed]",
      "text/plain": [
       "<Figure size 1152x576 with 1 Axes>"
      ]
     },
     "metadata": {
      "needs_background": "light"
     },
     "output_type": "display_data"
    }
   ],
   "source": [
    "D.plot_progress()"
   ]
  },
  {
   "cell_type": "code",
   "execution_count": 23,
   "id": "317e8cbf-e000-4fdf-8427-50ca9d4ea988",
   "metadata": {},
   "outputs": [
    {
     "data": {
      "image/png": "[encoded data removed]",
      "text/plain": [
       "<Figure size 1152x576 with 1 Axes>"
      ]
     },
     "metadata": {
      "needs_background": "light"
     },
     "output_type": "display_data"
    }
   ],
   "source": [
    "G.plot_progress()"
   ]
  },
  {
   "cell_type": "code",
   "execution_count": 34,
   "id": "5f4e663a-e19b-40af-9797-30f6352ceb05",
   "metadata": {},
   "outputs": [],
   "source": [
    "image_tensor = G.forward(torch.FloatTensor([0.5]))"
   ]
  },
  {
   "cell_type": "code",
   "execution_count": 35,
   "id": "a54ff45b-e9fe-4ead-b707-c878f7b5f677",
   "metadata": {},
   "outputs": [
    {
     "data": {
      "text/plain": [
       "tensor([0.9602, 0.9609, 0.9627, 0.9484, 0.9520, 0.9605, 0.9554, 0.9568, 0.9614,\n",
       "        0.9562, 0.9509, 0.9522, 0.9564, 0.9572, 0.9578, 0.9641, 0.9617, 0.9585,\n",
       "        0.9589, 0.9594, 0.9634, 0.9568, 0.9569, 0.9651, 0.9592, 0.9610, 0.9664,\n",
       "        0.9593, 0.9665, 0.9546, 0.9600, 0.9514, 0.9606, 0.9614, 0.9542, 0.9591,\n",
       "        0.9592, 0.9642, 0.9574, 0.9634, 0.9581, 0.9569, 0.9660, 0.9585, 0.9523,\n",
       "        0.9589, 0.9556, 0.9647, 0.9672, 0.9557, 0.9516, 0.9537, 0.9603, 0.9570,\n",
       "        0.9610, 0.9533, 0.9614, 0.9583, 0.9588, 0.9602, 0.9640, 0.9537, 0.9560,\n",
       "        0.9614, 0.9560, 0.9492, 0.9647, 0.9656, 0.9579, 0.9512, 0.9569, 0.9589,\n",
       "        0.9592, 0.9528, 0.9592, 0.9629, 0.9578, 0.9519, 0.9553, 0.9525, 0.9543,\n",
       "        0.9659, 0.9621, 0.9576, 0.9574, 0.9624, 0.9556, 0.9597, 0.9575, 0.9552,\n",
       "        0.9643, 0.9643, 0.9617, 0.9622, 0.9593, 0.9488, 0.9605, 0.9510, 0.9559,\n",
       "        0.9635, 0.9606, 0.9716, 0.9610, 0.9502, 0.9536, 0.9560, 0.9526, 0.9571,\n",
       "        0.9600, 0.9613, 0.9643, 0.9606, 0.9585, 0.9549, 0.9558, 0.9597, 0.9481,\n",
       "        0.9591, 0.9528, 0.9478, 0.9577, 0.9633, 0.9541, 0.9668, 0.9598, 0.9547,\n",
       "        0.9557, 0.9526, 0.9529, 0.9631, 0.9571, 0.9552, 0.9541, 0.9580, 0.9621,\n",
       "        0.9509, 0.9467, 0.9618, 0.9627, 0.9633, 0.9534, 0.9629, 0.9571, 0.9596,\n",
       "        0.9636, 0.9580, 0.9549, 0.9548, 0.9688, 0.9636, 0.9538, 0.9645, 0.9515,\n",
       "        0.9708, 0.9645, 0.9580, 0.9584, 0.9535, 0.9554, 0.9514, 0.9607, 0.9652,\n",
       "        0.9550, 0.9631, 0.9521, 0.9618, 0.9558, 0.9582, 0.9594, 0.9541, 0.9640,\n",
       "        0.9565, 0.9603, 0.9670, 0.9627, 0.9643, 0.9532, 0.9537, 0.9640, 0.9609,\n",
       "        0.9563, 0.9589, 0.9543, 0.9617, 0.9625, 0.9616, 0.9519, 0.9667, 0.9643,\n",
       "        0.9639, 0.9588, 0.9653, 0.9586, 0.9628, 0.9606, 0.9646, 0.9557, 0.9642,\n",
       "        0.9671, 0.9499, 0.9516, 0.9673, 0.9602, 0.9536, 0.9527, 0.9542, 0.9564,\n",
       "        0.9584, 0.9665, 0.9640, 0.9594, 0.9574, 0.9633, 0.9542, 0.9639, 0.9561,\n",
       "        0.9569, 0.9646, 0.9533, 0.9591, 0.9586, 0.9626, 0.9580, 0.9564, 0.9605,\n",
       "        0.9507, 0.9582, 0.9638, 0.9685, 0.9625, 0.9634, 0.9490, 0.8399, 0.7382,\n",
       "        0.9544, 0.9553, 0.9542, 0.9494, 0.9609, 0.9512, 0.8555, 0.7036, 0.8333,\n",
       "        0.9633, 0.9632, 0.9605, 0.9511, 0.9563, 0.9644, 0.9562, 0.9518, 0.9565,\n",
       "        0.9657, 0.9540, 0.9555, 0.9570, 0.9539, 0.9684, 0.9408, 0.4501, 0.0099,\n",
       "        0.0099, 0.0204, 0.8274, 0.9627, 0.9566, 0.8260, 0.5232, 0.0080, 0.0087,\n",
       "        0.0074, 0.6101, 0.8806, 0.9555, 0.9516, 0.9539, 0.9596, 0.9578, 0.9629,\n",
       "        0.9547, 0.9639, 0.9588, 0.9613, 0.9581, 0.9529, 0.9581, 0.7486, 0.0084,\n",
       "        0.6513, 0.4372, 0.0087, 0.0199, 0.9192, 0.3970, 0.0093, 0.0065, 0.5378,\n",
       "        0.3761, 0.3695, 0.0083, 0.0513, 0.9422, 0.9527, 0.9594, 0.9607, 0.9586,\n",
       "        0.9662, 0.9650, 0.9620, 0.9564, 0.9577, 0.9601, 0.9415, 0.9550, 0.2938,\n",
       "        0.0082, 0.7820, 0.9634, 0.3215, 0.0098, 0.0402, 0.0092, 0.0417, 0.7781,\n",
       "        0.9553, 0.9518, 0.9558, 0.3322, 0.0101, 0.9210, 0.9606, 0.9595, 0.9546,\n",
       "        0.9602, 0.9536, 0.9574, 0.9603, 0.9619, 0.9564, 0.9559, 0.9491, 0.9527,\n",
       "        0.2236, 0.0084, 0.8381, 0.9557, 0.9622, 0.1733, 0.0095, 0.0780, 0.9049,\n",
       "        0.9569, 0.9560, 0.9432, 0.9630, 0.1021, 0.0142, 0.9406, 0.9557, 0.9466,\n",
       "        0.9639, 0.9659, 0.9697, 0.9496, 0.9595, 0.9638, 0.9558, 0.9603, 0.9594,\n",
       "        0.9604, 0.4904, 0.0091, 0.6437, 0.9483, 0.9478, 0.9311, 0.8435, 0.9408,\n",
       "        0.9558, 0.9509, 0.9620, 0.9646, 0.8463, 0.0098, 0.8225, 0.9516, 0.9584,\n",
       "        0.9560, 0.9628, 0.9564, 0.9555, 0.9570, 0.9566, 0.9518, 0.9540, 0.9613,\n",
       "        0.9618, 0.9601, 0.8427, 0.0082, 0.7782, 0.9647, 0.9607, 0.9563, 0.9552,\n",
       "        0.9671, 0.9611, 0.9490, 0.9586, 0.9337, 0.3270, 0.0087, 0.7328, 0.9570,\n",
       "        0.9540, 0.9625, 0.9553, 0.9570, 0.9547, 0.9547, 0.9628, 0.9595, 0.9626,\n",
       "        0.9554, 0.9544, 0.9536, 0.9588, 0.2714, 0.0104, 0.9222, 0.9577, 0.9484,\n",
       "        0.9507, 0.9554, 0.9482, 0.9557, 0.8834, 0.0888, 0.0081, 0.2820, 0.9637,\n",
       "        0.9635, 0.9531, 0.9614, 0.9549, 0.9629, 0.9519, 0.9575, 0.9589, 0.9510,\n",
       "        0.9615, 0.9676, 0.9625, 0.9547, 0.9635, 0.5903, 0.0079, 0.3900, 0.9501,\n",
       "        0.9578, 0.9607, 0.9571, 0.9573, 0.5091, 0.0143, 0.0077, 0.2782, 0.9562,\n",
       "        0.9580, 0.9524, 0.9604, 0.9543, 0.9547, 0.9504, 0.9653, 0.9598, 0.9679,\n",
       "        0.9618, 0.9550, 0.9673, 0.9581, 0.9558, 0.9557, 0.9653, 0.3846, 0.0079,\n",
       "        0.4604, 0.8179, 0.9236, 0.4625, 0.0541, 0.0101, 0.0159, 0.5377, 0.9631,\n",
       "        0.9501, 0.9595, 0.9598, 0.9502, 0.9648, 0.9589, 0.9637, 0.9608, 0.9621,\n",
       "        0.9571, 0.9515, 0.9548, 0.9606, 0.9657, 0.9627, 0.9538, 0.9541, 0.9632,\n",
       "        0.2901, 0.0090, 0.0081, 0.0127, 0.0094, 0.0131, 0.2758, 0.8496, 0.9578,\n",
       "        0.9535, 0.9609, 0.9608, 0.9549, 0.9595, 0.9602, 0.9544, 0.9665, 0.9521,\n",
       "        0.9610, 0.9607, 0.9523, 0.9630, 0.9607, 0.9532, 0.9642, 0.9469, 0.9482,\n",
       "        0.9631, 0.9562, 0.7794, 0.7633, 0.0602, 0.4993, 0.9381, 0.9616, 0.9566,\n",
       "        0.9445, 0.9554, 0.9625, 0.9522, 0.9516, 0.9631, 0.9689, 0.9582, 0.9602,\n",
       "        0.9595, 0.9515, 0.9577, 0.9536, 0.9576, 0.9581, 0.9455, 0.9641, 0.9559,\n",
       "        0.9554, 0.9614, 0.9531, 0.9607, 0.9529, 0.9603, 0.9631, 0.9526, 0.9491,\n",
       "        0.9541, 0.9472, 0.9615, 0.9568, 0.9632, 0.9577, 0.9539, 0.9550, 0.9533,\n",
       "        0.9675, 0.9541, 0.9621, 0.9602, 0.9562, 0.9564, 0.9598, 0.9595, 0.9548,\n",
       "        0.9560, 0.9584, 0.9633, 0.9635, 0.9530, 0.9555, 0.9591, 0.9526, 0.9538,\n",
       "        0.9540, 0.9616, 0.9511, 0.9572, 0.9590, 0.9528, 0.9586, 0.9618, 0.9632,\n",
       "        0.9534, 0.9576, 0.9640, 0.9591, 0.9658, 0.9506, 0.9538, 0.9541, 0.9647,\n",
       "        0.9465, 0.9579, 0.9567, 0.9505, 0.9685, 0.9570, 0.9634, 0.9540, 0.9543,\n",
       "        0.9661, 0.9605, 0.9562, 0.9570, 0.9578, 0.9499, 0.9607, 0.9653, 0.9473,\n",
       "        0.9600, 0.9564, 0.9571, 0.9584, 0.9635, 0.9605, 0.9597, 0.9695, 0.9628,\n",
       "        0.9606, 0.9569, 0.9567, 0.9661, 0.9578, 0.9578, 0.9599, 0.9588, 0.9610,\n",
       "        0.9507, 0.9560, 0.9629, 0.9565, 0.9563, 0.9606, 0.9555, 0.9592, 0.9622,\n",
       "        0.9570, 0.9604, 0.9614, 0.9570, 0.9620, 0.9572, 0.9485, 0.9583, 0.9652,\n",
       "        0.9557, 0.9592, 0.9643, 0.9552, 0.9587, 0.9650, 0.9559, 0.9572, 0.9644,\n",
       "        0.9569, 0.9613, 0.9543, 0.9565, 0.9613, 0.9618, 0.9656, 0.9645, 0.9622,\n",
       "        0.9612, 0.9611, 0.9624, 0.9532, 0.9613, 0.9586, 0.9631, 0.9582, 0.9579,\n",
       "        0.9577, 0.9539, 0.9655, 0.9582, 0.9590, 0.9582, 0.9596, 0.9584, 0.9595,\n",
       "        0.9561, 0.9508, 0.9600, 0.9538, 0.9650, 0.9661, 0.9618, 0.9575, 0.9626,\n",
       "        0.9658, 0.9506, 0.9571, 0.9553, 0.9596, 0.9603, 0.9598, 0.9587, 0.9637,\n",
       "        0.9567, 0.9494, 0.9589, 0.9608, 0.9592, 0.9593, 0.9624, 0.9561, 0.9565,\n",
       "        0.9523, 0.9613, 0.9652, 0.9628, 0.9564, 0.9619, 0.9632, 0.9546, 0.9631,\n",
       "        0.9620, 0.9582, 0.9576, 0.9562, 0.9619, 0.9617, 0.9609, 0.9593, 0.9606,\n",
       "        0.9633, 0.9560, 0.9634, 0.9605, 0.9645, 0.9575, 0.9561, 0.9561, 0.9629,\n",
       "        0.9579, 0.9703, 0.9539, 0.9554, 0.9496, 0.9538, 0.9584, 0.9653, 0.9537,\n",
       "        0.9502, 0.9626, 0.9561, 0.9592, 0.9574, 0.9719, 0.9526, 0.9543, 0.9591,\n",
       "        0.9550], grad_fn=<SigmoidBackward>)"
      ]
     },
     "execution_count": 35,
     "metadata": {},
     "output_type": "execute_result"
    }
   ],
   "source": [
    "image_tensor"
   ]
  },
  {
   "cell_type": "code",
   "execution_count": 36,
   "id": "6bc0f5bb-1cea-4bdd-9b6d-447a9a6274c8",
   "metadata": {},
   "outputs": [
    {
     "data": {
      "image/png": "[encoded data removed]",
      "text/plain": [
       "<Figure size 432x288 with 1 Axes>"
      ]
     },
     "metadata": {
      "needs_background": "light"
     },
     "output_type": "display_data"
    }
   ],
   "source": [
    "image_arr = image_tensor.detach().numpy()\n",
    "image_arr = image_arr.reshape(28,28)\n",
    "plt.imshow(image_arr, interpolation='none', cmap='Greys')\n",
    "plt.show()"
   ]
  },
  {
   "cell_type": "code",
   "execution_count": 41,
   "id": "a7dc0544-7f51-4d60-9b61-06befc225451",
   "metadata": {},
   "outputs": [
    {
     "data": {
      "image/png": "[encoded data removed]",
      "text/plain": [
       "<PIL.Image.Image image mode=L size=28x28 at 0x28CF13C6580>"
      ]
     },
     "execution_count": 41,
     "metadata": {},
     "output_type": "execute_result"
    }
   ],
   "source": [
    "image1 = Image.fromarray(np.uint8(image_arr))\n",
    "image1.save(\"Test1.bmp\",'BMP')\n",
    "image1"
   ]
  },
  {
   "cell_type": "code",
   "execution_count": 43,
   "id": "d01d3563-76d7-43e3-ae38-5684479eabb1",
   "metadata": {},
   "outputs": [
    {
     "data": {
      "image/png": "[encoded data removed]",
      "text/plain": [
       "<PIL.Image.Image image mode=L size=500x500 at 0x28CF0A12F40>"
      ]
     },
     "execution_count": 43,
     "metadata": {},
     "output_type": "execute_result"
    }
   ],
   "source": [
    "image2 = Image.fromarray(np.uint8(image_arr))\n",
    "image2 = image.resize((500,500), PIL.Image.ANTIALIAS)\n",
    "image2.save(\"Test2.bmp\",'BMP')\n",
    "image2"
   ]
  },
  {
   "cell_type": "code",
   "execution_count": 38,
   "id": "e06777ee-2476-4208-abd7-64569f9bd9b5",
   "metadata": {},
   "outputs": [],
   "source": [
    "image.show()"
   ]
  },
  {
   "cell_type": "code",
   "execution_count": 44,
   "id": "54a924ac-d6b5-4249-a65b-c71f3c9eddee",
   "metadata": {},
   "outputs": [
    {
     "data": {
      "text/plain": [
       "(503, 634)"
      ]
     },
     "execution_count": 44,
     "metadata": {},
     "output_type": "execute_result"
    }
   ],
   "source": [
    "test = PIL.Image.open(\"img4.bmp\").convert(\"L\")\n",
    "testarr = np.array(test)\n",
    "testarr.shape"
   ]
  },
  {
   "cell_type": "code",
   "execution_count": 45,
   "id": "cf2a1d9f-34ca-4b7b-9ff8-a7738ff61550",
   "metadata": {},
   "outputs": [
    {
     "data": {
      "text/plain": [
       "(28, 28)"
      ]
     },
     "execution_count": 45,
     "metadata": {},
     "output_type": "execute_result"
    }
   ],
   "source": [
    "testarr = testarr[:,65:569]\n",
    "\n",
    "test_image = Image.fromarray(np.uint8(testarr))\n",
    "test_image = test_image.resize((28,28), PIL.Image.ANTIALIAS)\n",
    "\n",
    "arr = np.array(test_image)\n",
    "arr.shape"
   ]
  },
  {
   "cell_type": "code",
   "execution_count": 46,
   "id": "6f798054-d373-4a47-9e7a-c02ced9799e3",
   "metadata": {},
   "outputs": [
    {
     "name": "stdout",
     "output_type": "stream",
     "text": [
      "(784, 1)\n"
     ]
    }
   ],
   "source": [
    "# 판별기에 넣을 수 있는 형태로 바꿔주기 (2차원 행렬 -> 1차원 행렬)\n",
    "\n",
    "arr = arr.reshape(784,-1)\n",
    "print(arr.shape)\n",
    "\n",
    "data = []\n",
    "for i in (arr/255):  # 데이터 크기 때문에 나눠줌\n",
    "    data.append(float(i[0]))  # 리스트 안에 리스트가 있는 형태여서 리스트 밖으로 꺼내줌"
   ]
  },
  {
   "cell_type": "code",
   "execution_count": 47,
   "id": "0f022543-874b-435f-b2cf-3444d986a52a",
   "metadata": {},
   "outputs": [],
   "source": [
    "test_data = torch.FloatTensor(data)"
   ]
  },
  {
   "cell_type": "code",
   "execution_count": 48,
   "id": "25eccdbc-d052-4524-bfe7-6e8875aecb18",
   "metadata": {},
   "outputs": [
    {
     "name": "stdout",
     "output_type": "stream",
     "text": [
      "0.07529658079147339\n"
     ]
    }
   ],
   "source": [
    "print(D.forward( test_data ).item() )"
   ]
  },
  {
   "cell_type": "code",
   "execution_count": null,
   "id": "705a6d66-a374-4513-ba47-97de12bfb303",
   "metadata": {},
   "outputs": [],
   "source": []
  }
 ],
 "metadata": {
  "kernelspec": {
   "display_name": "Python 3",
   "language": "python",
   "name": "python3"
  },
  "language_info": {
   "codemirror_mode": {
    "name": "ipython",
    "version": 3
   },
   "file_extension": ".py",
   "mimetype": "text/x-python",
   "name": "python",
   "nbconvert_exporter": "python",
   "pygments_lexer": "ipython3",
   "version": "3.8.8"
  }
 },
 "nbformat": 4,
 "nbformat_minor": 5
}
